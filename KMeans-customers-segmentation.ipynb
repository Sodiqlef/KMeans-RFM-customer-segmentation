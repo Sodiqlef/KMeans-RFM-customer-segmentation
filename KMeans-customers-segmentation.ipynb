{
 "cells": [
  {
   "cell_type": "markdown",
   "id": "fed3a79b",
   "metadata": {},
   "source": [
    "# Imports"
   ]
  },
  {
   "cell_type": "code",
   "execution_count": null,
   "id": "c085f906",
   "metadata": {},
   "outputs": [],
   "source": [
    "import pandas as pd\n",
    "import seaborn as sns\n",
    "import matplotlib.pyplot as plt\n",
    "\n"
   ]
  },
  {
   "cell_type": "markdown",
   "id": "c9255739",
   "metadata": {},
   "source": [
    "# Data Preparation"
   ]
  },
  {
   "cell_type": "code",
   "execution_count": null,
   "id": "093c436f",
   "metadata": {},
   "outputs": [],
   "source": [
    "df = pd.read_csv(\"onlineretail.csv\")"
   ]
  },
  {
   "cell_type": "code",
   "execution_count": null,
   "id": "5f6971c2",
   "metadata": {},
   "outputs": [],
   "source": [
    "df.head()"
   ]
  },
  {
   "cell_type": "code",
   "execution_count": null,
   "id": "aa47232c",
   "metadata": {},
   "outputs": [],
   "source": [
    "df.shape"
   ]
  },
  {
   "cell_type": "code",
   "execution_count": null,
   "id": "8e539de7",
   "metadata": {},
   "outputs": [],
   "source": [
    "df.info()"
   ]
  },
  {
   "cell_type": "code",
   "execution_count": null,
   "id": "7ecbda0c",
   "metadata": {},
   "outputs": [],
   "source": [
    "# Drop duplicates\n",
    "df.drop_duplicates(inplace=True)"
   ]
  },
  {
   "cell_type": "code",
   "execution_count": null,
   "id": "152a29ca",
   "metadata": {},
   "outputs": [],
   "source": [
    "# Drop all rows where customerId is null\n",
    "df = df[~df[\"CustomerID\"].isnull()]"
   ]
  },
  {
   "cell_type": "code",
   "execution_count": null,
   "id": "4e9aac85",
   "metadata": {},
   "outputs": [],
   "source": [
    "# Drop records where Quantity or UnitPrice is zero\n",
    "df = df[(df['Quantity'] > 0) & (df['UnitPrice'] > 0)]"
   ]
  },
  {
   "cell_type": "code",
   "execution_count": null,
   "id": "450a495b",
   "metadata": {},
   "outputs": [],
   "source": [
    "# Create a total price column\n",
    "df['TotalPrice'] = df['Quantity'] * df['UnitPrice']"
   ]
  },
  {
   "cell_type": "markdown",
   "id": "14477a8b",
   "metadata": {},
   "source": [
    "# Exploratory Data Analysis"
   ]
  },
  {
   "cell_type": "code",
   "execution_count": null,
   "id": "8e25d8a3",
   "metadata": {},
   "outputs": [],
   "source": [
    "# Top Countries by Number of Customers\n",
    "top_countries = df.groupby('Country')['CustomerID'].nunique().sort_values(ascending=False)[:10]\n",
    "top_countries"
   ]
  },
  {
   "cell_type": "code",
   "execution_count": null,
   "id": "07cf4830",
   "metadata": {},
   "outputs": [],
   "source": [
    "# Visualise Top Countries by Number of Customers using horizontal barplot\n",
    "plt.subplots(figsize=(15,6))\n",
    "sns.barplot(x=top_countries.values, y=top_countries.index)\n",
    "plt.title(\"Top 10 Countries by Unique Customers\")\n",
    "plt.xlabel(\"Number of Customers\")\n",
    "for i,v in enumerate(top_countries.values):\n",
    "    pass\n",
    "plt.show()"
   ]
  },
  {
   "cell_type": "code",
   "execution_count": null,
   "id": "7c0f20bb",
   "metadata": {},
   "outputs": [],
   "source": [
    "# Monthly Sales Trend\n",
    "df['InvoiceDate'] = pd.to_datetime(df['InvoiceDate'])\n",
    "df['InvoiceMonth'] = df['InvoiceDate'].dt.to_period('M')\n",
    "monthly_sales = df.groupby('InvoiceMonth')['TotalPrice'].sum()\n",
    "plt.subplots(figsize=(15,6))\n",
    "monthly_sales.plot(kind='line', title='Monthly Revenue')\n",
    "plt.ylabel('Revenue')\n",
    "plt.xlabel('Month')\n",
    "plt.show()"
   ]
  },
  {
   "cell_type": "code",
   "execution_count": null,
   "id": "7b68767f",
   "metadata": {},
   "outputs": [],
   "source": [
    "# Top 10 Best-Selling Products\n",
    "\n",
    "top_products = df.groupby(df[\"Description\"])[\"Quantity\"].sum().sort_values(ascending=False).head(10)\n",
    "top_products"
   ]
  },
  {
   "cell_type": "code",
   "execution_count": null,
   "id": "63452367",
   "metadata": {},
   "outputs": [],
   "source": [
    "plt.figure(figsize=(10,5))\n",
    "sns.barplot(x=top_products.values, y=top_products.index)\n",
    "plt.title(\"Top 10 Best-Selling Products\")\n",
    "plt.xlabel(\"Quantity Sold\")\n",
    "plt.show()"
   ]
  },
  {
   "cell_type": "code",
   "execution_count": null,
   "id": "8c2333f1",
   "metadata": {},
   "outputs": [],
   "source": [
    "df.describe()"
   ]
  },
  {
   "cell_type": "code",
   "execution_count": null,
   "id": "60f5a878",
   "metadata": {},
   "outputs": [],
   "source": [
    "plt.figure(figsize=(8, 4))\n",
    "sns.boxplot(x=df[\"TotalPrice\"])\n",
    "plt.title(\"Boxplot of Total Price\")\n",
    "plt.xlabel(\"TotalPrice\")\n",
    "plt.show()"
   ]
  },
  {
   "cell_type": "code",
   "execution_count": null,
   "id": "6c888c58",
   "metadata": {},
   "outputs": [],
   "source": [
    "# Remove outliers\n",
    "lower_bound = df['TotalPrice'].quantile(0.10)  # 10th percentile\n",
    "upper_bound = df['TotalPrice'].quantile(0.90)  # 90th percentile\n"
   ]
  },
  {
   "cell_type": "code",
   "execution_count": null,
   "id": "15682b3f",
   "metadata": {},
   "outputs": [],
   "source": [
    "# Check the distribution of UnitPrice\n",
    "sns.boxplot(x=df[]);"
   ]
  },
  {
   "cell_type": "code",
   "execution_count": null,
   "id": "11bffd74",
   "metadata": {},
   "outputs": [],
   "source": []
  },
  {
   "cell_type": "code",
   "execution_count": null,
   "id": "72a180aa",
   "metadata": {},
   "outputs": [],
   "source": []
  },
  {
   "cell_type": "code",
   "execution_count": null,
   "id": "4c559066",
   "metadata": {},
   "outputs": [],
   "source": []
  },
  {
   "cell_type": "code",
   "execution_count": null,
   "id": "3dd492d5",
   "metadata": {},
   "outputs": [],
   "source": []
  }
 ],
 "metadata": {
  "kernelspec": {
   "display_name": "Python 3",
   "language": "python",
   "name": "python3"
  },
  "language_info": {
   "codemirror_mode": {
    "name": "ipython",
    "version": 3
   },
   "file_extension": ".py",
   "mimetype": "text/x-python",
   "name": "python",
   "nbconvert_exporter": "python",
   "pygments_lexer": "ipython3",
   "version": "3.8.8"
  }
 },
 "nbformat": 4,
 "nbformat_minor": 5
}
